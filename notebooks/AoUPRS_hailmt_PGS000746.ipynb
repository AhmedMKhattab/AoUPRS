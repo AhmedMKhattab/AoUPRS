{
 "cells": [
  {
   "cell_type": "markdown",
   "metadata": {},
   "source": [
    "<div style=\"background-color: #e0f7fa; padding: 20px; font-size: 24px; font-family: Arial, sans-serif; border-radius: 10px; text-align: center; color: #00796b; box-shadow: 0 4px 8px rgba(0, 0, 0, 0.2);\">\n",
    "    <strong>AoUPRS:</strong> Hail MT\n",
    "</div>"
   ]
  },
  {
   "cell_type": "markdown",
   "metadata": {},
   "source": [
    "<div style=\"background-color: #f9f9f9; padding: 15px; font-size: 18px; font-family: 'Georgia', serif; border-left: 5px solid #4a90e2; color: #333; line-height: 1.5;\">\n",
    "    <strong>Author:</strong> Ahmed Khattab<br>\n",
    "    <em>Scripps Research</em>\n",
    "</div>\n"
   ]
  },
  {
   "cell_type": "markdown",
   "metadata": {},
   "source": [
    "<div style=\"background-color: #e3f2fd; padding: 20px; font-size: 16px; font-family: 'Helvetica Neue', sans-serif; border-radius: 8px; color: #0d47a1; line-height: 1.6; box-shadow: 0 2px 4px rgba(0, 0, 0, 0.1);\">\n",
    "    <strong>Introduction</strong><br>\n",
    "    In this notebook, we will demonstrate how to use <strong style=\"color: #00796b;\">AoUPRS</strong> to calculate Polygenic Risk Scores Hail MatrixTable (MT).<br><br>\n",
    "    <strong>Hail MT</strong><br>\n",
    "    MT is a dense Hail format that contains variants at an Alternate Allele Count Frequency (ACAF) threshold (AF >1% and AC > 100). .<br><br>\n",
    "    <strong>Resources used</strong>\n",
    "    <ul style=\"list-style-type: none; padding: 0;\">\n",
    "        <li>Cost when running: <strong>&dollar;72.96 per hour</strong></li>\n",
    "        <li>Main node: 4 CPUs, 26 GB RAM, 150 GB Disk</li>\n",
    "        <li>Workers (300/0): 4 CPUs, 15 GB RAM, 150 GB Disk</li>\n",
    "        <li>Time and Cost: <strong>&dollar;41.3 / 34 min</strong></li>\n",
    "    </ul>\n",
    "</div>\n"
   ]
  },
  {
   "cell_type": "code",
   "execution_count": 1,
   "metadata": {},
   "outputs": [
    {
     "name": "stdout",
     "output_type": "stream",
     "text": [
      "Start date: 2024-07-01\n",
      "Start time: 23:51:28\n"
     ]
    }
   ],
   "source": [
    "import time\n",
    "import datetime\n",
    "\n",
    "# Get the current date and time\n",
    "start_time = datetime.datetime.now()\n",
    "\n",
    "# Record the start time\n",
    "current_date = start_time.date()\n",
    "current_time = start_time.time()\n",
    "\n",
    "# Format the current date\n",
    "formatted_start_date = current_date.strftime(\"%Y-%m-%d\")\n",
    "\n",
    "# Format the current time\n",
    "formatted_start_time = current_time.strftime(\"%H:%M:%S\")\n",
    "\n",
    "# Print the formatted date and time separately\n",
    "print(\"Start date:\", formatted_start_date)\n",
    "print(\"Start time:\", formatted_start_time)"
   ]
  },
  {
   "cell_type": "markdown",
   "metadata": {},
   "source": [
    "\n",
    "<div style=\"background-color: #dcedc8; padding: 15px; font-size: 24px; font-family: 'Arial', sans-serif; border-radius: 8px; color: #558b2f; line-height: 1.6; box-shadow: 0 2px 4px rgba(0, 0, 0, 0.1); text-align: center;\">\n",
    "    <strong>Define Bucket</strong>\n",
    "</div>\n"
   ]
  },
  {
   "cell_type": "code",
   "execution_count": 2,
   "metadata": {},
   "outputs": [],
   "source": [
    "import os\n",
    "bucket = os.getenv(\"WORKSPACE_BUCKET\")"
   ]
  },
  {
   "cell_type": "markdown",
   "metadata": {},
   "source": [
    "<div style=\"background-color: #dcedc8; padding: 15px; font-size: 24px; font-family: 'Arial', sans-serif; border-radius: 8px; color: #558b2f; line-height: 1.6; box-shadow: 0 2px 4px rgba(0, 0, 0, 0.1); text-align: center;\">\n",
    "    <strong>Import Hail</strong>\n",
    "</div>\n"
   ]
  },
  {
   "cell_type": "code",
   "execution_count": 3,
   "metadata": {
    "execution": {
     "iopub.execute_input": "2023-09-16T20:09:11.806426Z",
     "iopub.status.busy": "2023-09-16T20:09:11.805899Z",
     "iopub.status.idle": "2023-09-16T20:09:12.059189Z",
     "shell.execute_reply": "2023-09-16T20:09:12.058207Z"
    }
   },
   "outputs": [
    {
     "data": {
      "text/html": [
       "    <style>\n",
       "        .bk-notebook-logo {\n",
       "            display: block;\n",
       "            width: 20px;\n",
       "            height: 20px;\n",
       "            background-image: url(data:image/png;base64,iVBORw0KGgoAAAANSUhEUgAAABQAAAAUCAYAAACNiR0NAAAABHNCSVQICAgIfAhkiAAAAAlwSFlzAAALEgAACxIB0t1+/AAAABx0RVh0U29mdHdhcmUAQWRvYmUgRmlyZXdvcmtzIENTNui8sowAAAOkSURBVDiNjZRtaJVlGMd/1/08zzln5zjP1LWcU9N0NkN8m2CYjpgQYQXqSs0I84OLIC0hkEKoPtiH3gmKoiJDU7QpLgoLjLIQCpEsNJ1vqUOdO7ppbuec5+V+rj4ctwzd8IIbbi6u+8f1539dt3A78eXC7QizUF7gyV1fD1Yqg4JWz84yffhm0qkFqBogB9rM8tZdtwVsPUhWhGcFJngGeWrPzHm5oaMmkfEg1usvLFyc8jLRqDOMru7AyC8saQr7GG7f5fvDeH7Ej8CM66nIF+8yngt6HWaKh7k49Soy9nXurCi1o3qUbS3zWfrYeQDTB/Qj6kX6Ybhw4B+bOYoLKCC9H3Nu/leUTZ1JdRWkkn2ldcCamzrcf47KKXdAJllSlxAOkRgyHsGC/zRday5Qld9DyoM4/q/rUoy/CXh3jzOu3bHUVZeU+DEn8FInkPBFlu3+nW3Nw0mk6vCDiWg8CeJaxEwuHS3+z5RgY+YBR6V1Z1nxSOfoaPa4LASWxxdNp+VWTk7+4vzaou8v8PN+xo+KY2xsw6une2frhw05CTYOmQvsEhjhWjn0bmXPjpE1+kplmmkP3suftwTubK9Vq22qKmrBhpY4jvd5afdRA3wGjFAgcnTK2s4hY0/GPNIb0nErGMCRxWOOX64Z8RAC4oCXdklmEvcL8o0BfkNK4lUg9HTl+oPlQxdNo3Mg4Nv175e/1LDGzZen30MEjRUtmXSfiTVu1kK8W4txyV6BMKlbgk3lMwYCiusNy9fVfvvwMxv8Ynl6vxoByANLTWplvuj/nF9m2+PDtt1eiHPBr1oIfhCChQMBw6Aw0UulqTKZdfVvfG7VcfIqLG9bcldL/+pdWTLxLUy8Qq38heUIjh4XlzZxzQm19lLFlr8vdQ97rjZVOLf8nclzckbcD4wxXMidpX30sFd37Fv/GtwwhzhxGVAprjbg0gCAEeIgwCZyTV2Z1REEW8O4py0wsjeloKoMr6iCY6dP92H6Vw/oTyICIthibxjm/DfN9lVz8IqtqKYLUXfoKVMVQVVJOElGjrnnUt9T9wbgp8AyYKaGlqingHZU/uG2NTZSVqwHQTWkx9hxjkpWDaCg6Ckj5qebgBVbT3V3NNXMSiWSDdGV3hrtzla7J+duwPOToIg42ChPQOQjspnSlp1V+Gjdged7+8UN5CRAV7a5EdFNwCjEaBR27b3W890TE7g24NAP/mMDXRWrGoFPQI9ls/MWO2dWFAar/xcOIImbbpA3zgAAAABJRU5ErkJggg==);\n",
       "        }\n",
       "    </style>\n",
       "    <div>\n",
       "        <a href=\"https://bokeh.org\" target=\"_blank\" class=\"bk-notebook-logo\"></a>\n",
       "        <span id=\"d0388ce2-c18f-4b43-a6f5-6ee0662c75c2\">Loading BokehJS ...</span>\n",
       "    </div>\n"
      ]
     },
     "metadata": {},
     "output_type": "display_data"
    },
    {
     "data": {
      "application/javascript": [
       "'use strict';\n",
       "(function(root) {\n",
       "  function now() {\n",
       "    return new Date();\n",
       "  }\n",
       "\n",
       "  const force = true;\n",
       "\n",
       "  if (typeof root._bokeh_onload_callbacks === \"undefined\" || force === true) {\n",
       "    root._bokeh_onload_callbacks = [];\n",
       "    root._bokeh_is_loading = undefined;\n",
       "  }\n",
       "\n",
       "const JS_MIME_TYPE = 'application/javascript';\n",
       "  const HTML_MIME_TYPE = 'text/html';\n",
       "  const EXEC_MIME_TYPE = 'application/vnd.bokehjs_exec.v0+json';\n",
       "  const CLASS_NAME = 'output_bokeh rendered_html';\n",
       "\n",
       "  /**\n",
       "   * Render data to the DOM node\n",
       "   */\n",
       "  function render(props, node) {\n",
       "    const script = document.createElement(\"script\");\n",
       "    node.appendChild(script);\n",
       "  }\n",
       "\n",
       "  /**\n",
       "   * Handle when an output is cleared or removed\n",
       "   */\n",
       "  function handleClearOutput(event, handle) {\n",
       "    function drop(id) {\n",
       "      const view = Bokeh.index.get_by_id(id)\n",
       "      if (view != null) {\n",
       "        view.model.document.clear()\n",
       "        Bokeh.index.delete(view)\n",
       "      }\n",
       "    }\n",
       "\n",
       "    const cell = handle.cell;\n",
       "\n",
       "    const id = cell.output_area._bokeh_element_id;\n",
       "    const server_id = cell.output_area._bokeh_server_id;\n",
       "\n",
       "    // Clean up Bokeh references\n",
       "    if (id != null) {\n",
       "      drop(id)\n",
       "    }\n",
       "\n",
       "    if (server_id !== undefined) {\n",
       "      // Clean up Bokeh references\n",
       "      const cmd_clean = \"from bokeh.io.state import curstate; print(curstate().uuid_to_server['\" + server_id + \"'].get_sessions()[0].document.roots[0]._id)\";\n",
       "      cell.notebook.kernel.execute(cmd_clean, {\n",
       "        iopub: {\n",
       "          output: function(msg) {\n",
       "            const id = msg.content.text.trim()\n",
       "            drop(id)\n",
       "          }\n",
       "        }\n",
       "      });\n",
       "      // Destroy server and session\n",
       "      const cmd_destroy = \"import bokeh.io.notebook as ion; ion.destroy_server('\" + server_id + \"')\";\n",
       "      cell.notebook.kernel.execute(cmd_destroy);\n",
       "    }\n",
       "  }\n",
       "\n",
       "  /**\n",
       "   * Handle when a new output is added\n",
       "   */\n",
       "  function handleAddOutput(event, handle) {\n",
       "    const output_area = handle.output_area;\n",
       "    const output = handle.output;\n",
       "\n",
       "    // limit handleAddOutput to display_data with EXEC_MIME_TYPE content only\n",
       "    if ((output.output_type != \"display_data\") || (!Object.prototype.hasOwnProperty.call(output.data, EXEC_MIME_TYPE))) {\n",
       "      return\n",
       "    }\n",
       "\n",
       "    const toinsert = output_area.element.find(\".\" + CLASS_NAME.split(' ')[0]);\n",
       "\n",
       "    if (output.metadata[EXEC_MIME_TYPE][\"id\"] !== undefined) {\n",
       "      toinsert[toinsert.length - 1].firstChild.textContent = output.data[JS_MIME_TYPE];\n",
       "      // store reference to embed id on output_area\n",
       "      output_area._bokeh_element_id = output.metadata[EXEC_MIME_TYPE][\"id\"];\n",
       "    }\n",
       "    if (output.metadata[EXEC_MIME_TYPE][\"server_id\"] !== undefined) {\n",
       "      const bk_div = document.createElement(\"div\");\n",
       "      bk_div.innerHTML = output.data[HTML_MIME_TYPE];\n",
       "      const script_attrs = bk_div.children[0].attributes;\n",
       "      for (let i = 0; i < script_attrs.length; i++) {\n",
       "        toinsert[toinsert.length - 1].firstChild.setAttribute(script_attrs[i].name, script_attrs[i].value);\n",
       "        toinsert[toinsert.length - 1].firstChild.textContent = bk_div.children[0].textContent\n",
       "      }\n",
       "      // store reference to server id on output_area\n",
       "      output_area._bokeh_server_id = output.metadata[EXEC_MIME_TYPE][\"server_id\"];\n",
       "    }\n",
       "  }\n",
       "\n",
       "  function register_renderer(events, OutputArea) {\n",
       "\n",
       "    function append_mime(data, metadata, element) {\n",
       "      // create a DOM node to render to\n",
       "      const toinsert = this.create_output_subarea(\n",
       "        metadata,\n",
       "        CLASS_NAME,\n",
       "        EXEC_MIME_TYPE\n",
       "      );\n",
       "      this.keyboard_manager.register_events(toinsert);\n",
       "      // Render to node\n",
       "      const props = {data: data, metadata: metadata[EXEC_MIME_TYPE]};\n",
       "      render(props, toinsert[toinsert.length - 1]);\n",
       "      element.append(toinsert);\n",
       "      return toinsert\n",
       "    }\n",
       "\n",
       "    /* Handle when an output is cleared or removed */\n",
       "    events.on('clear_output.CodeCell', handleClearOutput);\n",
       "    events.on('delete.Cell', handleClearOutput);\n",
       "\n",
       "    /* Handle when a new output is added */\n",
       "    events.on('output_added.OutputArea', handleAddOutput);\n",
       "\n",
       "    /**\n",
       "     * Register the mime type and append_mime function with output_area\n",
       "     */\n",
       "    OutputArea.prototype.register_mime_type(EXEC_MIME_TYPE, append_mime, {\n",
       "      /* Is output safe? */\n",
       "      safe: true,\n",
       "      /* Index of renderer in `output_area.display_order` */\n",
       "      index: 0\n",
       "    });\n",
       "  }\n",
       "\n",
       "  // register the mime type if in Jupyter Notebook environment and previously unregistered\n",
       "  if (root.Jupyter !== undefined) {\n",
       "    const events = require('base/js/events');\n",
       "    const OutputArea = require('notebook/js/outputarea').OutputArea;\n",
       "\n",
       "    if (OutputArea.prototype.mime_types().indexOf(EXEC_MIME_TYPE) == -1) {\n",
       "      register_renderer(events, OutputArea);\n",
       "    }\n",
       "  }\n",
       "  if (typeof (root._bokeh_timeout) === \"undefined\" || force === true) {\n",
       "    root._bokeh_timeout = Date.now() + 5000;\n",
       "    root._bokeh_failed_load = false;\n",
       "  }\n",
       "\n",
       "  const NB_LOAD_WARNING = {'data': {'text/html':\n",
       "     \"<div style='background-color: #fdd'>\\n\"+\n",
       "     \"<p>\\n\"+\n",
       "     \"BokehJS does not appear to have successfully loaded. If loading BokehJS from CDN, this \\n\"+\n",
       "     \"may be due to a slow or bad network connection. Possible fixes:\\n\"+\n",
       "     \"</p>\\n\"+\n",
       "     \"<ul>\\n\"+\n",
       "     \"<li>re-rerun `output_notebook()` to attempt to load from CDN again, or</li>\\n\"+\n",
       "     \"<li>use INLINE resources instead, as so:</li>\\n\"+\n",
       "     \"</ul>\\n\"+\n",
       "     \"<code>\\n\"+\n",
       "     \"from bokeh.resources import INLINE\\n\"+\n",
       "     \"output_notebook(resources=INLINE)\\n\"+\n",
       "     \"</code>\\n\"+\n",
       "     \"</div>\"}};\n",
       "\n",
       "  function display_loaded(error = null) {\n",
       "    const el = document.getElementById(\"d0388ce2-c18f-4b43-a6f5-6ee0662c75c2\");\n",
       "    if (el != null) {\n",
       "      const html = (() => {\n",
       "        if (typeof root.Bokeh === \"undefined\") {\n",
       "          if (error == null) {\n",
       "            return \"BokehJS is loading ...\";\n",
       "          } else {\n",
       "            return \"BokehJS failed to load.\";\n",
       "          }\n",
       "        } else {\n",
       "          const prefix = `BokehJS ${root.Bokeh.version}`;\n",
       "          if (error == null) {\n",
       "            return `${prefix} successfully loaded.`;\n",
       "          } else {\n",
       "            return `${prefix} <b>encountered errors</b> while loading and may not function as expected.`;\n",
       "          }\n",
       "        }\n",
       "      })();\n",
       "      el.innerHTML = html;\n",
       "\n",
       "      if (error != null) {\n",
       "        const wrapper = document.createElement(\"div\");\n",
       "        wrapper.style.overflow = \"auto\";\n",
       "        wrapper.style.height = \"5em\";\n",
       "        wrapper.style.resize = \"vertical\";\n",
       "        const content = document.createElement(\"div\");\n",
       "        content.style.fontFamily = \"monospace\";\n",
       "        content.style.whiteSpace = \"pre-wrap\";\n",
       "        content.style.backgroundColor = \"rgb(255, 221, 221)\";\n",
       "        content.textContent = error.stack ?? error.toString();\n",
       "        wrapper.append(content);\n",
       "        el.append(wrapper);\n",
       "      }\n",
       "    } else if (Date.now() < root._bokeh_timeout) {\n",
       "      setTimeout(() => display_loaded(error), 100);\n",
       "    }\n",
       "  }\n",
       "\n",
       "  function run_callbacks() {\n",
       "    try {\n",
       "      root._bokeh_onload_callbacks.forEach(function(callback) {\n",
       "        if (callback != null)\n",
       "          callback();\n",
       "      });\n",
       "    } finally {\n",
       "      delete root._bokeh_onload_callbacks\n",
       "    }\n",
       "    console.debug(\"Bokeh: all callbacks have finished\");\n",
       "  }\n",
       "\n",
       "  function load_libs(css_urls, js_urls, callback) {\n",
       "    if (css_urls == null) css_urls = [];\n",
       "    if (js_urls == null) js_urls = [];\n",
       "\n",
       "    root._bokeh_onload_callbacks.push(callback);\n",
       "    if (root._bokeh_is_loading > 0) {\n",
       "      console.debug(\"Bokeh: BokehJS is being loaded, scheduling callback at\", now());\n",
       "      return null;\n",
       "    }\n",
       "    if (js_urls == null || js_urls.length === 0) {\n",
       "      run_callbacks();\n",
       "      return null;\n",
       "    }\n",
       "    console.debug(\"Bokeh: BokehJS not loaded, scheduling load and callback at\", now());\n",
       "    root._bokeh_is_loading = css_urls.length + js_urls.length;\n",
       "\n",
       "    function on_load() {\n",
       "      root._bokeh_is_loading--;\n",
       "      if (root._bokeh_is_loading === 0) {\n",
       "        console.debug(\"Bokeh: all BokehJS libraries/stylesheets loaded\");\n",
       "        run_callbacks()\n",
       "      }\n",
       "    }\n",
       "\n",
       "    function on_error(url) {\n",
       "      console.error(\"failed to load \" + url);\n",
       "    }\n",
       "\n",
       "    for (let i = 0; i < css_urls.length; i++) {\n",
       "      const url = css_urls[i];\n",
       "      const element = document.createElement(\"link\");\n",
       "      element.onload = on_load;\n",
       "      element.onerror = on_error.bind(null, url);\n",
       "      element.rel = \"stylesheet\";\n",
       "      element.type = \"text/css\";\n",
       "      element.href = url;\n",
       "      console.debug(\"Bokeh: injecting link tag for BokehJS stylesheet: \", url);\n",
       "      document.body.appendChild(element);\n",
       "    }\n",
       "\n",
       "    for (let i = 0; i < js_urls.length; i++) {\n",
       "      const url = js_urls[i];\n",
       "      const element = document.createElement('script');\n",
       "      element.onload = on_load;\n",
       "      element.onerror = on_error.bind(null, url);\n",
       "      element.async = false;\n",
       "      element.src = url;\n",
       "      console.debug(\"Bokeh: injecting script tag for BokehJS library: \", url);\n",
       "      document.head.appendChild(element);\n",
       "    }\n",
       "  };\n",
       "\n",
       "  function inject_raw_css(css) {\n",
       "    const element = document.createElement(\"style\");\n",
       "    element.appendChild(document.createTextNode(css));\n",
       "    document.body.appendChild(element);\n",
       "  }\n",
       "\n",
       "  const js_urls = [\"https://cdn.bokeh.org/bokeh/release/bokeh-3.4.1.min.js\", \"https://cdn.bokeh.org/bokeh/release/bokeh-gl-3.4.1.min.js\", \"https://cdn.bokeh.org/bokeh/release/bokeh-widgets-3.4.1.min.js\", \"https://cdn.bokeh.org/bokeh/release/bokeh-tables-3.4.1.min.js\", \"https://cdn.bokeh.org/bokeh/release/bokeh-mathjax-3.4.1.min.js\"];\n",
       "  const css_urls = [];\n",
       "\n",
       "  const inline_js = [    function(Bokeh) {\n",
       "      Bokeh.set_log_level(\"info\");\n",
       "    },\n",
       "function(Bokeh) {\n",
       "    }\n",
       "  ];\n",
       "\n",
       "  function run_inline_js() {\n",
       "    if (root.Bokeh !== undefined || force === true) {\n",
       "      try {\n",
       "            for (let i = 0; i < inline_js.length; i++) {\n",
       "      inline_js[i].call(root, root.Bokeh);\n",
       "    }\n",
       "\n",
       "      } catch (error) {display_loaded(error);throw error;\n",
       "      }if (force === true) {\n",
       "        display_loaded();\n",
       "      }} else if (Date.now() < root._bokeh_timeout) {\n",
       "      setTimeout(run_inline_js, 100);\n",
       "    } else if (!root._bokeh_failed_load) {\n",
       "      console.log(\"Bokeh: BokehJS failed to load within specified timeout.\");\n",
       "      root._bokeh_failed_load = true;\n",
       "    } else if (force !== true) {\n",
       "      const cell = $(document.getElementById(\"d0388ce2-c18f-4b43-a6f5-6ee0662c75c2\")).parents('.cell').data().cell;\n",
       "      cell.output_area.append_execute_result(NB_LOAD_WARNING)\n",
       "    }\n",
       "  }\n",
       "\n",
       "  if (root._bokeh_is_loading === 0) {\n",
       "    console.debug(\"Bokeh: BokehJS loaded, going straight to plotting\");\n",
       "    run_inline_js();\n",
       "  } else {\n",
       "    load_libs(css_urls, js_urls, function() {\n",
       "      console.debug(\"Bokeh: BokehJS plotting callback run at\", now());\n",
       "      run_inline_js();\n",
       "    });\n",
       "  }\n",
       "}(window));"
      ],
      "application/vnd.bokehjs_load.v0+json": "'use strict';\n(function(root) {\n  function now() {\n    return new Date();\n  }\n\n  const force = true;\n\n  if (typeof root._bokeh_onload_callbacks === \"undefined\" || force === true) {\n    root._bokeh_onload_callbacks = [];\n    root._bokeh_is_loading = undefined;\n  }\n\n\n  if (typeof (root._bokeh_timeout) === \"undefined\" || force === true) {\n    root._bokeh_timeout = Date.now() + 5000;\n    root._bokeh_failed_load = false;\n  }\n\n  const NB_LOAD_WARNING = {'data': {'text/html':\n     \"<div style='background-color: #fdd'>\\n\"+\n     \"<p>\\n\"+\n     \"BokehJS does not appear to have successfully loaded. If loading BokehJS from CDN, this \\n\"+\n     \"may be due to a slow or bad network connection. Possible fixes:\\n\"+\n     \"</p>\\n\"+\n     \"<ul>\\n\"+\n     \"<li>re-rerun `output_notebook()` to attempt to load from CDN again, or</li>\\n\"+\n     \"<li>use INLINE resources instead, as so:</li>\\n\"+\n     \"</ul>\\n\"+\n     \"<code>\\n\"+\n     \"from bokeh.resources import INLINE\\n\"+\n     \"output_notebook(resources=INLINE)\\n\"+\n     \"</code>\\n\"+\n     \"</div>\"}};\n\n  function display_loaded(error = null) {\n    const el = document.getElementById(\"d0388ce2-c18f-4b43-a6f5-6ee0662c75c2\");\n    if (el != null) {\n      const html = (() => {\n        if (typeof root.Bokeh === \"undefined\") {\n          if (error == null) {\n            return \"BokehJS is loading ...\";\n          } else {\n            return \"BokehJS failed to load.\";\n          }\n        } else {\n          const prefix = `BokehJS ${root.Bokeh.version}`;\n          if (error == null) {\n            return `${prefix} successfully loaded.`;\n          } else {\n            return `${prefix} <b>encountered errors</b> while loading and may not function as expected.`;\n          }\n        }\n      })();\n      el.innerHTML = html;\n\n      if (error != null) {\n        const wrapper = document.createElement(\"div\");\n        wrapper.style.overflow = \"auto\";\n        wrapper.style.height = \"5em\";\n        wrapper.style.resize = \"vertical\";\n        const content = document.createElement(\"div\");\n        content.style.fontFamily = \"monospace\";\n        content.style.whiteSpace = \"pre-wrap\";\n        content.style.backgroundColor = \"rgb(255, 221, 221)\";\n        content.textContent = error.stack ?? error.toString();\n        wrapper.append(content);\n        el.append(wrapper);\n      }\n    } else if (Date.now() < root._bokeh_timeout) {\n      setTimeout(() => display_loaded(error), 100);\n    }\n  }\n\n  function run_callbacks() {\n    try {\n      root._bokeh_onload_callbacks.forEach(function(callback) {\n        if (callback != null)\n          callback();\n      });\n    } finally {\n      delete root._bokeh_onload_callbacks\n    }\n    console.debug(\"Bokeh: all callbacks have finished\");\n  }\n\n  function load_libs(css_urls, js_urls, callback) {\n    if (css_urls == null) css_urls = [];\n    if (js_urls == null) js_urls = [];\n\n    root._bokeh_onload_callbacks.push(callback);\n    if (root._bokeh_is_loading > 0) {\n      console.debug(\"Bokeh: BokehJS is being loaded, scheduling callback at\", now());\n      return null;\n    }\n    if (js_urls == null || js_urls.length === 0) {\n      run_callbacks();\n      return null;\n    }\n    console.debug(\"Bokeh: BokehJS not loaded, scheduling load and callback at\", now());\n    root._bokeh_is_loading = css_urls.length + js_urls.length;\n\n    function on_load() {\n      root._bokeh_is_loading--;\n      if (root._bokeh_is_loading === 0) {\n        console.debug(\"Bokeh: all BokehJS libraries/stylesheets loaded\");\n        run_callbacks()\n      }\n    }\n\n    function on_error(url) {\n      console.error(\"failed to load \" + url);\n    }\n\n    for (let i = 0; i < css_urls.length; i++) {\n      const url = css_urls[i];\n      const element = document.createElement(\"link\");\n      element.onload = on_load;\n      element.onerror = on_error.bind(null, url);\n      element.rel = \"stylesheet\";\n      element.type = \"text/css\";\n      element.href = url;\n      console.debug(\"Bokeh: injecting link tag for BokehJS stylesheet: \", url);\n      document.body.appendChild(element);\n    }\n\n    for (let i = 0; i < js_urls.length; i++) {\n      const url = js_urls[i];\n      const element = document.createElement('script');\n      element.onload = on_load;\n      element.onerror = on_error.bind(null, url);\n      element.async = false;\n      element.src = url;\n      console.debug(\"Bokeh: injecting script tag for BokehJS library: \", url);\n      document.head.appendChild(element);\n    }\n  };\n\n  function inject_raw_css(css) {\n    const element = document.createElement(\"style\");\n    element.appendChild(document.createTextNode(css));\n    document.body.appendChild(element);\n  }\n\n  const js_urls = [\"https://cdn.bokeh.org/bokeh/release/bokeh-3.4.1.min.js\", \"https://cdn.bokeh.org/bokeh/release/bokeh-gl-3.4.1.min.js\", \"https://cdn.bokeh.org/bokeh/release/bokeh-widgets-3.4.1.min.js\", \"https://cdn.bokeh.org/bokeh/release/bokeh-tables-3.4.1.min.js\", \"https://cdn.bokeh.org/bokeh/release/bokeh-mathjax-3.4.1.min.js\"];\n  const css_urls = [];\n\n  const inline_js = [    function(Bokeh) {\n      Bokeh.set_log_level(\"info\");\n    },\nfunction(Bokeh) {\n    }\n  ];\n\n  function run_inline_js() {\n    if (root.Bokeh !== undefined || force === true) {\n      try {\n            for (let i = 0; i < inline_js.length; i++) {\n      inline_js[i].call(root, root.Bokeh);\n    }\n\n      } catch (error) {display_loaded(error);throw error;\n      }if (force === true) {\n        display_loaded();\n      }} else if (Date.now() < root._bokeh_timeout) {\n      setTimeout(run_inline_js, 100);\n    } else if (!root._bokeh_failed_load) {\n      console.log(\"Bokeh: BokehJS failed to load within specified timeout.\");\n      root._bokeh_failed_load = true;\n    } else if (force !== true) {\n      const cell = $(document.getElementById(\"d0388ce2-c18f-4b43-a6f5-6ee0662c75c2\")).parents('.cell').data().cell;\n      cell.output_area.append_execute_result(NB_LOAD_WARNING)\n    }\n  }\n\n  if (root._bokeh_is_loading === 0) {\n    console.debug(\"Bokeh: BokehJS loaded, going straight to plotting\");\n    run_inline_js();\n  } else {\n    load_libs(css_urls, js_urls, function() {\n      console.debug(\"Bokeh: BokehJS plotting callback run at\", now());\n      run_inline_js();\n    });\n  }\n}(window));"
     },
     "metadata": {},
     "output_type": "display_data"
    }
   ],
   "source": [
    "import AoUPRS\n",
    "import pandas as pd\n",
    "import numpy as np\n",
    "from datetime import datetime\n",
    "import gcsfs\n",
    "import multiprocessing\n",
    "import ast\n",
    "import concurrent.futures\n",
    "import glob\n",
    "import hail as hl"
   ]
  },
  {
   "cell_type": "code",
   "execution_count": 4,
   "metadata": {
    "execution": {
     "iopub.execute_input": "2023-09-16T20:09:12.080061Z",
     "iopub.status.busy": "2023-09-16T20:09:12.079227Z",
     "iopub.status.idle": "2023-09-16T20:09:30.186923Z",
     "shell.execute_reply": "2023-09-16T20:09:30.185873Z"
    },
    "scrolled": true
   },
   "outputs": [
    {
     "name": "stderr",
     "output_type": "stream",
     "text": [
      "/opt/conda/lib/python3.10/site-packages/hail/context.py:352: UserWarning:\n",
      "\n",
      "Using hl.init with a default_reference argument is deprecated. To set a default reference genome after initializing hail, call `hl.default_reference` with an argument to set the default reference genome.\n",
      "\n",
      "/opt/conda/lib/python3.10/site-packages/hailtop/aiocloud/aiogoogle/user_config.py:43: UserWarning:\n",
      "\n",
      "Reading spark-defaults.conf to determine GCS requester pays configuration. This is deprecated. Please use `hailctl config set gcs_requester_pays/project` and `hailctl config set gcs_requester_pays/buckets`.\n",
      "\n",
      "Setting default log level to \"WARN\".\n",
      "To adjust logging level use sc.setLogLevel(newLevel). For SparkR, use setLogLevel(newLevel).\n",
      "Running on Apache Spark version 3.3.0\n",
      "SparkUI available at http://all-of-us-7093-m.c.terra-vpc-sc-e098d676.internal:43057\n",
      "Welcome to\n",
      "     __  __     <>__\n",
      "    / /_/ /__  __/ /\n",
      "   / __  / _ `/ / /\n",
      "  /_/ /_/\\_,_/_/_/   version 0.2.130-bea04d9c79b5\n",
      "LOGGING: writing to /home/jupyter/workspaces/duplicateoftype2diabetesriskprediction/hail-20240701-2351-0.2.130-bea04d9c79b5.log\n"
     ]
    }
   ],
   "source": [
    "hl.init(tmp_dir=f'{bucket}/hail_temp/', default_reference='GRCh38')"
   ]
  },
  {
   "cell_type": "markdown",
   "metadata": {},
   "source": [
    "\n",
    "<div style=\"background-color: #dcedc8; padding: 15px; font-size: 24px; font-family: 'Arial', sans-serif; border-radius: 8px; color: #558b2f; line-height: 1.6; box-shadow: 0 2px 4px rgba(0, 0, 0, 0.1); text-align: center;\">\n",
    "    <strong>Read Hail MT</strong>\n",
    "</div>\n"
   ]
  },
  {
   "cell_type": "code",
   "execution_count": 5,
   "metadata": {},
   "outputs": [],
   "source": [
    "# Hail MT\n",
    "mt_wgs_path = os.getenv(\"WGS_ACAF_THRESHOLD_MULTI_HAIL_PATH\")\n",
    "mt = hl.read_matrix_table(mt_wgs_path)"
   ]
  },
  {
   "cell_type": "code",
   "execution_count": 6,
   "metadata": {
    "scrolled": true
   },
   "outputs": [],
   "source": [
    "# To reduce the MT size, keep only the GT field (The only field we need for PRS calculation)\n",
    "mt = mt.select_entries(\"GT\")"
   ]
  },
  {
   "cell_type": "code",
   "execution_count": 7,
   "metadata": {},
   "outputs": [
    {
     "data": {
      "text/plain": [
       "(48314438, 245394)"
      ]
     },
     "execution_count": 7,
     "metadata": {},
     "output_type": "execute_result"
    }
   ],
   "source": [
    "mt.count()"
   ]
  },
  {
   "cell_type": "markdown",
   "metadata": {},
   "source": [
    "\n",
    "<div style=\"background-color: #dcedc8; padding: 15px; font-size: 24px; font-family: 'Arial', sans-serif; border-radius: 8px; color: #558b2f; line-height: 1.6; box-shadow: 0 2px 4px rgba(0, 0, 0, 0.1); text-align: center;\">\n",
    "    <strong>Drop Flagged srWGS samples</strong>\n",
    "</div>\n"
   ]
  },
  {
   "cell_type": "markdown",
   "metadata": {},
   "source": [
    "<div style=\"background-color: #e8eaf6; padding: 20px; font-size: 18px; font-family: 'Arial', sans-serif; border-radius: 8px; color: #303f9f; line-height: 1.6; box-shadow: 0 2px 4px rgba(0, 0, 0, 0.1);\">\n",
    "    AoU provides a table listing samples that are flagged as part of the sample outlier QC for the srWGS SNP and Indel joint callset. <a href=\"https://support.researchallofus.org/hc/en-us/articles/4614687617556-How-the-All-of-Us-Genomic-data-are-organized#h_01GY7QZR2QYFDKGK89TCHSJSA7\" style=\"color: #303f9f; text-decoration: none; font-size: 14px;\"><strong>Read more</strong></a>\n",
    "</div>\n"
   ]
  },
  {
   "cell_type": "code",
   "execution_count": 8,
   "metadata": {},
   "outputs": [],
   "source": [
    "# Read flagged samples\n",
    "flagged_samples_path = \"gs://fc-aou-datasets-controlled/v7/wgs/short_read/snpindel/aux/relatedness/relatedness_flagged_samples.tsv\""
   ]
  },
  {
   "cell_type": "code",
   "execution_count": 9,
   "metadata": {},
   "outputs": [],
   "source": [
    "!gsutil -u $$GOOGLE_PROJECT cat $flagged_samples_path > flagged_samples.cvs"
   ]
  },
  {
   "cell_type": "code",
   "execution_count": 10,
   "metadata": {},
   "outputs": [
    {
     "name": "stderr",
     "output_type": "stream",
     "text": [
      "2024-07-01 23:52:20.181 Hail: INFO: Reading table without type imputation1) / 1]\n",
      "  Loading field 'sample_id' as type str (not specified)\n"
     ]
    }
   ],
   "source": [
    "# Import flagged samples into a hail table\n",
    "flagged_samples = hl.import_table(flagged_samples_path, key='sample_id')"
   ]
  },
  {
   "cell_type": "code",
   "execution_count": 11,
   "metadata": {},
   "outputs": [],
   "source": [
    "# Drop flagged sample from main Hail MT\n",
    "mt = mt.anti_join_cols(flagged_samples)"
   ]
  },
  {
   "cell_type": "code",
   "execution_count": 12,
   "metadata": {},
   "outputs": [
    {
     "data": {
      "text/plain": [
       "(48314438, 230019)"
      ]
     },
     "execution_count": 12,
     "metadata": {},
     "output_type": "execute_result"
    }
   ],
   "source": [
    "mt.count()"
   ]
  },
  {
   "cell_type": "markdown",
   "metadata": {},
   "source": [
    "\n",
    "<div style=\"background-color: #dcedc8; padding: 15px; font-size: 24px; font-family: 'Arial', sans-serif; border-radius: 8px; color: #558b2f; line-height: 1.6; box-shadow: 0 2px 4px rgba(0, 0, 0, 0.1); text-align: center;\">\n",
    "    <strong>Define The Sample Intended for PRS Calculation</strong>\n",
    "</div>\n"
   ]
  },
  {
   "cell_type": "markdown",
   "metadata": {},
   "source": [
    "<div style=\"background-color: #f3e5f5; padding: 20px; font-size: 18px; font-family: 'Arial', sans-serif; border-radius: 8px; color: #6a1b9a; line-height: 1.6; box-shadow: 0 2px 4px rgba(0, 0, 0, 0.1); text-align: center;\">\n",
    "    This is a pre-selected sample for all people with WGS and EHR data available.\n",
    "</div>"
   ]
  },
  {
   "cell_type": "code",
   "execution_count": 13,
   "metadata": {
    "code_folding": [
     4
    ]
   },
   "outputs": [
    {
     "data": {
      "application/vnd.jupyter.widget-view+json": {
       "model_id": "3b3617df73ae43ef886b7973479478d0",
       "version_major": 2,
       "version_minor": 0
      },
      "text/plain": [
       "Downloading:   0%|          | 0/206173 [00:00<?, ?rows/s]"
      ]
     },
     "metadata": {},
     "output_type": "display_data"
    }
   ],
   "source": [
    "import pandas\n",
    "import os\n",
    "\n",
    "# This query represents dataset \"participants_with_WGS_EHR_phenotypes_020524\" for domain \"person\" and was generated for All of Us Controlled Tier Dataset v7\n",
    "dataset_16967016_person_sql = \"\"\"\n",
    "    SELECT\n",
    "        person.person_id,\n",
    "        person.gender_concept_id,\n",
    "        p_gender_concept.concept_name as gender,\n",
    "        person.birth_datetime as date_of_birth,\n",
    "        person.race_concept_id,\n",
    "        p_race_concept.concept_name as race,\n",
    "        person.ethnicity_concept_id,\n",
    "        p_ethnicity_concept.concept_name as ethnicity,\n",
    "        person.sex_at_birth_concept_id,\n",
    "        p_sex_at_birth_concept.concept_name as sex_at_birth \n",
    "    FROM\n",
    "        `\"\"\" + os.environ[\"WORKSPACE_CDR\"] + \"\"\".person` person \n",
    "    LEFT JOIN\n",
    "        `\"\"\" + os.environ[\"WORKSPACE_CDR\"] + \"\"\".concept` p_gender_concept \n",
    "            ON person.gender_concept_id = p_gender_concept.concept_id \n",
    "    LEFT JOIN\n",
    "        `\"\"\" + os.environ[\"WORKSPACE_CDR\"] + \"\"\".concept` p_race_concept \n",
    "            ON person.race_concept_id = p_race_concept.concept_id \n",
    "    LEFT JOIN\n",
    "        `\"\"\" + os.environ[\"WORKSPACE_CDR\"] + \"\"\".concept` p_ethnicity_concept \n",
    "            ON person.ethnicity_concept_id = p_ethnicity_concept.concept_id \n",
    "    LEFT JOIN\n",
    "        `\"\"\" + os.environ[\"WORKSPACE_CDR\"] + \"\"\".concept` p_sex_at_birth_concept \n",
    "            ON person.sex_at_birth_concept_id = p_sex_at_birth_concept.concept_id  \n",
    "    WHERE\n",
    "        person.PERSON_ID IN (\n",
    "            SELECT\n",
    "                distinct person_id  \n",
    "            FROM\n",
    "                `\"\"\" + os.environ[\"WORKSPACE_CDR\"] + \"\"\".cb_search_person` cb_search_person  \n",
    "            WHERE\n",
    "                cb_search_person.person_id IN (\n",
    "                    SELECT\n",
    "                        person_id \n",
    "                    FROM\n",
    "                        `\"\"\" + os.environ[\"WORKSPACE_CDR\"] + \"\"\".cb_search_person` p \n",
    "                    WHERE\n",
    "                        has_ehr_data = 1 \n",
    "                ) \n",
    "                AND cb_search_person.person_id IN (\n",
    "                    SELECT\n",
    "                        person_id \n",
    "                    FROM\n",
    "                        `\"\"\" + os.environ[\"WORKSPACE_CDR\"] + \"\"\".cb_search_person` p \n",
    "                    WHERE\n",
    "                        has_whole_genome_variant = 1 \n",
    "                ) \n",
    "            )\"\"\"\n",
    "\n",
    "dataset_16967016_person_df = pandas.read_gbq(\n",
    "    dataset_16967016_person_sql,\n",
    "    dialect=\"standard\",\n",
    "    use_bqstorage_api=(\"BIGQUERY_STORAGE_API_ENABLED\" in os.environ),\n",
    "    progress_bar_type=\"tqdm_notebook\")"
   ]
  },
  {
   "cell_type": "code",
   "execution_count": 14,
   "metadata": {},
   "outputs": [
    {
     "data": {
      "text/plain": [
       "206173"
      ]
     },
     "execution_count": 14,
     "metadata": {},
     "output_type": "execute_result"
    }
   ],
   "source": [
    "dataset_16967016_person_df['person_id'].nunique()"
   ]
  },
  {
   "cell_type": "code",
   "execution_count": 15,
   "metadata": {},
   "outputs": [],
   "source": [
    "# drop flagged sample\n",
    "flag_s = pd.read_csv('flagged_samples.cvs')\n",
    "flag_s.rename(columns={'sample_id': 'person_id'}, inplace=True)\n",
    "\n",
    "# Merge the two DataFrames on person_id column\n",
    "aou_ids = pd.merge(dataset_16967016_person_df[['person_id']], flag_s, how='left', indicator=True)\n",
    "\n",
    "# Filter to keep only rows where the merge indicator is left-only (i.e., rows present only in dataset_16967016_person_df[['person_id']])\n",
    "aou_ids = aou_ids[aou_ids['_merge'] == 'left_only']\n",
    "\n",
    "# Drop the merge indicator column\n",
    "aou_ids.drop(columns=['_merge'], inplace=True)"
   ]
  },
  {
   "cell_type": "code",
   "execution_count": 16,
   "metadata": {},
   "outputs": [
    {
     "data": {
      "text/plain": [
       "(193835, 1)"
      ]
     },
     "execution_count": 16,
     "metadata": {},
     "output_type": "execute_result"
    }
   ],
   "source": [
    "aou_ids.shape"
   ]
  },
  {
   "cell_type": "code",
   "execution_count": 17,
   "metadata": {},
   "outputs": [],
   "source": [
    "# Convert the subset_sample_ids to a Python set\n",
    "subset_sample_ids_set = set(map(str, aou_ids['person_id'].tolist()))"
   ]
  },
  {
   "cell_type": "code",
   "execution_count": 18,
   "metadata": {},
   "outputs": [],
   "source": [
    "mt = mt.filter_cols(hl.literal(subset_sample_ids_set).contains(mt.s))"
   ]
  },
  {
   "cell_type": "code",
   "execution_count": 19,
   "metadata": {},
   "outputs": [
    {
     "data": {
      "text/plain": [
       "(48314438, 193835)"
      ]
     },
     "execution_count": 19,
     "metadata": {},
     "output_type": "execute_result"
    }
   ],
   "source": [
    "mt.count()"
   ]
  },
  {
   "cell_type": "markdown",
   "metadata": {},
   "source": [
    "\n",
    "<div style=\"background-color: #dcedc8; padding: 15px; font-size: 24px; font-family: 'Arial', sans-serif; border-radius: 8px; color: #558b2f; line-height: 1.6; box-shadow: 0 2px 4px rgba(0, 0, 0, 0.1); text-align: center;\">\n",
    "    <strong>Prepare PRS Weight Table</strong>\n",
    "</div>\n"
   ]
  },
  {
   "cell_type": "markdown",
   "metadata": {},
   "source": [
    "<div style=\"background-color: #f0f4c3; padding: 15px; font-size: 18px; font-family: 'Arial', sans-serif; border-radius: 8px; color: #33691e; line-height: 1.6; box-shadow: 0 2px 4px rgba(0, 0, 0, 0.1); text-align: center;\">\n",
    "    We are using <strong>PGS000746</strong> from <a href=\"https://www.pgscatalog.org/score/PGS000746/\" style=\"color: #33691e; text-decoration: none; font-size: 18px;\"><strong>PGS Catalog</strong></a>\n",
    "</div>\n"
   ]
  },
  {
   "cell_type": "code",
   "execution_count": 20,
   "metadata": {},
   "outputs": [
    {
     "name": "stdout",
     "output_type": "stream",
     "text": [
      "\n",
      "********************************************************\n",
      "*                                                      *\n",
      "*   Winter is coming... and so is your Weight table!   *\n",
      "*                                                      *\n",
      "********************************************************\n",
      "\n",
      "Number of variants in the modified table: 1938\n",
      "Modified PRS table saved as: gs://fc-secure-e5684327-e720-41ed-979a-b9ae6477b844/AoUPRS/AoUPRS_hail_mt/PGS000746_weight_table.csv\n",
      "\n",
      "********************************************************\n",
      "*                                                      *\n",
      "*       Your quest is nearly complete, brave one!      *\n",
      "*                         BUT                          *\n",
      "*        The PRS adventure is about to get epic!       *\n",
      "*                                                      *\n",
      "********************************************************\n",
      "\n"
     ]
    }
   ],
   "source": [
    "# Prepare PRS weight table using function 'prepare_prs_table'\n",
    "AoUPRS.prepare_prs_table('AoUPRS/AoUPRS_hail_mt/PGS000746_Gola_D_PRS_1940_Coronary_artery_disease_Circ_Genom_Precis_Med_2020.GRCh37_to_GRCh38.csv',\n",
    "                 'AoUPRS/AoUPRS_hail_mt/PGS000746_weight_table.csv', bucket=bucket)"
   ]
  },
  {
   "cell_type": "code",
   "execution_count": 21,
   "metadata": {},
   "outputs": [],
   "source": [
    "with gcsfs.GCSFileSystem().open(f'{bucket}/AoUPRS/AoUPRS_hail_mt/PGS000746_weight_table.csv', 'rb') as gcs_file:\n",
    "    PGS000746_weights_tabel = pd.read_csv(gcs_file)"
   ]
  },
  {
   "cell_type": "code",
   "execution_count": 22,
   "metadata": {},
   "outputs": [
    {
     "data": {
      "text/plain": [
       "(1938, 12)"
      ]
     },
     "execution_count": 22,
     "metadata": {},
     "output_type": "execute_result"
    }
   ],
   "source": [
    "PGS000746_weights_tabel.shape"
   ]
  },
  {
   "cell_type": "code",
   "execution_count": 23,
   "metadata": {},
   "outputs": [
    {
     "data": {
      "text/html": [
       "<div>\n",
       "<style scoped>\n",
       "    .dataframe tbody tr th:only-of-type {\n",
       "        vertical-align: middle;\n",
       "    }\n",
       "\n",
       "    .dataframe tbody tr th {\n",
       "        vertical-align: top;\n",
       "    }\n",
       "\n",
       "    .dataframe thead th {\n",
       "        text-align: right;\n",
       "    }\n",
       "</style>\n",
       "<table border=\"1\" class=\"dataframe\">\n",
       "  <thead>\n",
       "    <tr style=\"text-align: right;\">\n",
       "      <th></th>\n",
       "      <th>chr</th>\n",
       "      <th>bp</th>\n",
       "      <th>rs_number</th>\n",
       "      <th>effect_allele</th>\n",
       "      <th>noneffect_allele</th>\n",
       "      <th>weight</th>\n",
       "      <th>additive</th>\n",
       "      <th>recessive</th>\n",
       "      <th>dominant</th>\n",
       "      <th>contig</th>\n",
       "      <th>position</th>\n",
       "      <th>variant_id</th>\n",
       "    </tr>\n",
       "  </thead>\n",
       "  <tbody>\n",
       "    <tr>\n",
       "      <th>0</th>\n",
       "      <td>1</td>\n",
       "      <td>1006159</td>\n",
       "      <td>1:941539:C:T:1_941539_T_C</td>\n",
       "      <td>C</td>\n",
       "      <td>T</td>\n",
       "      <td>0.045347</td>\n",
       "      <td>1</td>\n",
       "      <td>0</td>\n",
       "      <td>0</td>\n",
       "      <td>chr1</td>\n",
       "      <td>1006159</td>\n",
       "      <td>chr1:1006159</td>\n",
       "    </tr>\n",
       "    <tr>\n",
       "      <th>1</th>\n",
       "      <td>1</td>\n",
       "      <td>2232129</td>\n",
       "      <td>1:2163568:C:T:1_2163568_T_C</td>\n",
       "      <td>C</td>\n",
       "      <td>T</td>\n",
       "      <td>0.033695</td>\n",
       "      <td>1</td>\n",
       "      <td>0</td>\n",
       "      <td>0</td>\n",
       "      <td>chr1</td>\n",
       "      <td>2232129</td>\n",
       "      <td>chr1:2232129</td>\n",
       "    </tr>\n",
       "    <tr>\n",
       "      <th>2</th>\n",
       "      <td>1</td>\n",
       "      <td>2293397</td>\n",
       "      <td>1:2224836:G:A:1_2224836_A_G</td>\n",
       "      <td>G</td>\n",
       "      <td>A</td>\n",
       "      <td>0.035216</td>\n",
       "      <td>1</td>\n",
       "      <td>0</td>\n",
       "      <td>0</td>\n",
       "      <td>chr1</td>\n",
       "      <td>2293397</td>\n",
       "      <td>chr1:2293397</td>\n",
       "    </tr>\n",
       "    <tr>\n",
       "      <th>3</th>\n",
       "      <td>1</td>\n",
       "      <td>2301093</td>\n",
       "      <td>1:2232532:G:A:1_2232532_A_G</td>\n",
       "      <td>G</td>\n",
       "      <td>A</td>\n",
       "      <td>0.053983</td>\n",
       "      <td>1</td>\n",
       "      <td>0</td>\n",
       "      <td>0</td>\n",
       "      <td>chr1</td>\n",
       "      <td>2301093</td>\n",
       "      <td>chr1:2301093</td>\n",
       "    </tr>\n",
       "    <tr>\n",
       "      <th>4</th>\n",
       "      <td>1</td>\n",
       "      <td>2308567</td>\n",
       "      <td>1:2240006:T:C:1_2240006_C_T</td>\n",
       "      <td>T</td>\n",
       "      <td>C</td>\n",
       "      <td>0.059530</td>\n",
       "      <td>1</td>\n",
       "      <td>0</td>\n",
       "      <td>0</td>\n",
       "      <td>chr1</td>\n",
       "      <td>2308567</td>\n",
       "      <td>chr1:2308567</td>\n",
       "    </tr>\n",
       "  </tbody>\n",
       "</table>\n",
       "</div>"
      ],
      "text/plain": [
       "   chr       bp                    rs_number effect_allele noneffect_allele  \\\n",
       "0    1  1006159    1:941539:C:T:1_941539_T_C             C                T   \n",
       "1    1  2232129  1:2163568:C:T:1_2163568_T_C             C                T   \n",
       "2    1  2293397  1:2224836:G:A:1_2224836_A_G             G                A   \n",
       "3    1  2301093  1:2232532:G:A:1_2232532_A_G             G                A   \n",
       "4    1  2308567  1:2240006:T:C:1_2240006_C_T             T                C   \n",
       "\n",
       "     weight  additive  recessive  dominant contig  position    variant_id  \n",
       "0  0.045347         1          0         0   chr1   1006159  chr1:1006159  \n",
       "1  0.033695         1          0         0   chr1   2232129  chr1:2232129  \n",
       "2  0.035216         1          0         0   chr1   2293397  chr1:2293397  \n",
       "3  0.053983         1          0         0   chr1   2301093  chr1:2301093  \n",
       "4  0.059530         1          0         0   chr1   2308567  chr1:2308567  "
      ]
     },
     "execution_count": 23,
     "metadata": {},
     "output_type": "execute_result"
    }
   ],
   "source": [
    "PGS000746_weights_tabel.head()"
   ]
  },
  {
   "cell_type": "markdown",
   "metadata": {},
   "source": [
    "\n",
    "<div style=\"background-color: #dcedc8; padding: 15px; font-size: 24px; font-family: 'Arial', sans-serif; border-radius: 8px; color: #558b2f; line-height: 1.6; box-shadow: 0 2px 4px rgba(0, 0, 0, 0.1); text-align: center;\">\n",
    "    <strong>PRS Calculator</strong>\n",
    "</div>\n"
   ]
  },
  {
   "cell_type": "code",
   "execution_count": 24,
   "metadata": {},
   "outputs": [],
   "source": [
    "prs_identifier = 'PGS000746'\n",
    "pgs_weight_path = 'AoUPRS/AoUPRS_hail_mt/PGS000746_weight_table.csv'\n",
    "output_path = 'AoUPRS/AoUPRS_hail_mt/calculated_scores/PGS000746_aou'"
   ]
  },
  {
   "cell_type": "code",
   "execution_count": 25,
   "metadata": {
    "scrolled": false
   },
   "outputs": [
    {
     "name": "stdout",
     "output_type": "stream",
     "text": [
      "\n",
      "##########################################\n",
      "##                                      ##\n",
      "##                AoUPRS                ##\n",
      "##    A PRS Calculator for All of Us    ##\n",
      "##         Author: Ahmed Khattab        ##\n",
      "##           Scripps Research           ##\n",
      "##                                      ##\n",
      "##########################################\n",
      "\n",
      "******************************************\n",
      "*                                        *\n",
      "*       Ahoy, PRS treasures ahead!       *\n",
      "*                                        *\n",
      "******************************************\n",
      "\n",
      "\n",
      "<<<<<<<<<>>>>>>>>\n",
      "    PGS000746   \n",
      "<<<<<<<<<>>>>>>>>\n",
      "\n",
      "Reading PRS weight table...\n",
      "Re-importing PRS table with determined column types...\n"
     ]
    },
    {
     "name": "stderr",
     "output_type": "stream",
     "text": [
      "2024-07-01 23:52:44.743 Hail: INFO: Reading table without type imputation\n",
      "  Loading field 'chr' as type str (user-supplied)\n",
      "  Loading field 'bp' as type str (user-supplied)\n",
      "  Loading field 'rs_number' as type str (user-supplied)\n",
      "  Loading field 'effect_allele' as type str (user-supplied)\n",
      "  Loading field 'noneffect_allele' as type str (user-supplied)\n",
      "  Loading field 'weight' as type float64 (user-supplied)\n",
      "  Loading field 'additive' as type str (user-supplied)\n",
      "  Loading field 'recessive' as type str (user-supplied)\n",
      "  Loading field 'dominant' as type str (user-supplied)\n",
      "  Loading field 'contig' as type str (user-supplied)\n",
      "  Loading field 'position' as type int32 (user-supplied)\n",
      "  Loading field 'variant_id' as type str (user-supplied)\n"
     ]
    },
    {
     "name": "stdout",
     "output_type": "stream",
     "text": [
      "Filtering variants...\n",
      "Annotating the MatrixTable with the PRS information...\n",
      "Calculating effect allele count and multiplying by variant weight...\n",
      "Summing the weighted counts per sample and counting the number of variants with weights per sample...\n",
      "Extracting and saving found variants...\n"
     ]
    },
    {
     "name": "stderr",
     "output_type": "stream",
     "text": [
      "2024-07-01 23:52:54.102 Hail: INFO: Coerced sorted dataset          (0 + 1) / 1]\n",
      "2024-07-01 23:52:55.484 Hail: INFO: Coerced sorted dataset          (0 + 1) / 1]\n",
      "2024-07-01 23:53:04.890 Hail: INFO: wrote table with 1938 rows in 1 partition to gs://fc-secure-e5684327-e720-41ed-979a-b9ae6477b844/hail_temp//__iruid_5485-mg1ZlrCvbr1G7L7UyEPS9y\n",
      "2024-07-01 23:53:11.492 Hail: INFO: wrote table with 1938 rows in 1 partition to gs://fc-secure-e5684327-e720-41ed-979a-b9ae6477b844/hail_temp//__iruid_5901-FhITOlCdPYhw4pdQDNHIZc\n",
      "[Stage 11:=================================================>(84646 + 2) / 84648]\r"
     ]
    },
    {
     "name": "stdout",
     "output_type": "stream",
     "text": [
      "Number of found variants: 1935\n",
      "Found variants saved as: gs://fc-secure-e5684327-e720-41ed-979a-b9ae6477b844/AoUPRS/AoUPRS_hail_mt/calculated_scores/PGS000746_aou/score/PGS000746_found_in_aou.csv\n",
      "Writing the PRS scores to a Hail Table at: gs://fc-secure-e5684327-e720-41ed-979a-b9ae6477b844/AoUPRS/AoUPRS_hail_mt/calculated_scores/PGS000746_aou/hail/\n"
     ]
    },
    {
     "name": "stderr",
     "output_type": "stream",
     "text": [
      "2024-07-02 00:04:11.142 Hail: INFO: Coerced sorted dataset          (0 + 1) / 1]\n",
      "2024-07-02 00:04:12.205 Hail: INFO: Coerced sorted dataset          (0 + 1) / 1]\n",
      "2024-07-02 00:04:21.274 Hail: INFO: wrote table with 1938 rows in 1 partition to gs://fc-secure-e5684327-e720-41ed-979a-b9ae6477b844/hail_temp//__iruid_11738-pGNT9nFFHY2EzZopKJMt0s\n",
      "2024-07-02 00:04:27.664 Hail: INFO: wrote table with 1938 rows in 1 partition to gs://fc-secure-e5684327-e720-41ed-979a-b9ae6477b844/hail_temp//__iruid_12154-hMBscSbnGknioUGJQomHQD\n",
      "2024-07-02 00:22:34.485 Hail: INFO: wrote table with 193835 rows in 1192 partitions to gs://fc-secure-e5684327-e720-41ed-979a-b9ae6477b844/AoUPRS/AoUPRS_hail_mt/calculated_scores/PGS000746_aou/hail/\n"
     ]
    },
    {
     "name": "stdout",
     "output_type": "stream",
     "text": [
      "Exporting the Hail Table to a CSV file...\n"
     ]
    },
    {
     "name": "stderr",
     "output_type": "stream",
     "text": [
      "2024-07-02 00:23:03.462 Hail: INFO: merging 1193 files totalling 4.4M... / 1192]\n",
      "2024-07-02 00:24:45.624 Hail: INFO: while writing:\n",
      "    gs://fc-secure-e5684327-e720-41ed-979a-b9ae6477b844/AoUPRS/AoUPRS_hail_mt/calculated_scores/PGS000746_aou/score/PGS000746_scores.csv\n",
      "  merge time: 1m42.2s\n"
     ]
    },
    {
     "name": "stdout",
     "output_type": "stream",
     "text": [
      "PRS scores saved as: gs://fc-secure-e5684327-e720-41ed-979a-b9ae6477b844/AoUPRS/AoUPRS_hail_mt/calculated_scores/PGS000746_aou/score/PGS000746_scores.csv\n",
      "CPU times: user 9.06 s, sys: 2.06 s, total: 11.1 s\n",
      "Wall time: 33min 11s\n"
     ]
    }
   ],
   "source": [
    "%time AoUPRS.calculate_prs_mt(mt, prs_identifier, pgs_weight_path, output_path, bucket=bucket, save_found_variants=True)"
   ]
  },
  {
   "cell_type": "code",
   "execution_count": null,
   "metadata": {},
   "outputs": [],
   "source": []
  },
  {
   "cell_type": "code",
   "execution_count": 26,
   "metadata": {},
   "outputs": [
    {
     "name": "stdout",
     "output_type": "stream",
     "text": [
      "End date: 2024-07-02\n",
      "End time: 00:25:54\n"
     ]
    },
    {
     "name": "stderr",
     "output_type": "stream",
     "text": [
      "Traceback (most recent call last):\n",
      "  File \"/opt/conda/lib/python3.10/runpy.py\", line 196, in _run_module_as_main\n",
      "    return _run_code(code, main_globals, None,\n",
      "  File \"/opt/conda/lib/python3.10/runpy.py\", line 86, in _run_code\n",
      "    exec(code, run_globals)\n",
      "  File \"/opt/conda/lib/python3.10/site-packages/ipykernel_launcher.py\", line 17, in <module>\n",
      "    app.launch_new_instance()\n",
      "  File \"/opt/conda/lib/python3.10/site-packages/traitlets/config/application.py\", line 1043, in launch_instance\n",
      "    app.start()\n",
      "  File \"/opt/conda/lib/python3.10/site-packages/ipykernel/kernelapp.py\", line 736, in start\n",
      "    self.io_loop.start()\n",
      "  File \"/opt/conda/lib/python3.10/site-packages/tornado/platform/asyncio.py\", line 195, in start\n",
      "    self.asyncio_loop.run_forever()\n",
      "  File \"/opt/conda/lib/python3.10/asyncio/base_events.py\", line 603, in run_forever\n",
      "    self._run_once()\n",
      "  File \"/opt/conda/lib/python3.10/asyncio/base_events.py\", line 1894, in _run_once\n",
      "    handle = self._ready.popleft()\n",
      "IndexError: pop from an empty deque\n"
     ]
    }
   ],
   "source": [
    "import datetime\n",
    "\n",
    "# Get the current date and time again\n",
    "end_time = datetime.datetime.now()\n",
    "\n",
    "# Record the end time\n",
    "current_date = end_time.date()\n",
    "current_time = end_time.time()\n",
    "\n",
    "# Format the current date\n",
    "formatted_end_date = current_date.strftime(\"%Y-%m-%d\")\n",
    "\n",
    "# Format the current time\n",
    "formatted_end_time = current_time.strftime(\"%H:%M:%S\")\n",
    "\n",
    "# Print the formatted end date and time separately\n",
    "print(\"End date:\", formatted_end_date)\n",
    "print(\"End time:\", formatted_end_time)"
   ]
  }
 ],
 "metadata": {
  "kernelspec": {
   "display_name": "Python 3",
   "language": "python",
   "name": "python3"
  },
  "language_info": {
   "codemirror_mode": {
    "name": "ipython",
    "version": 3
   },
   "file_extension": ".py",
   "mimetype": "text/x-python",
   "name": "python",
   "nbconvert_exporter": "python",
   "pygments_lexer": "ipython3",
   "version": "3.10.12"
  },
  "toc": {
   "base_numbering": 1,
   "nav_menu": {},
   "number_sections": true,
   "sideBar": true,
   "skip_h1_title": false,
   "title_cell": "Table of Contents",
   "title_sidebar": "Contents",
   "toc_cell": false,
   "toc_position": {
    "height": "calc(100% - 180px)",
    "left": "10px",
    "top": "150px",
    "width": "266.594px"
   },
   "toc_section_display": true,
   "toc_window_display": true
  }
 },
 "nbformat": 4,
 "nbformat_minor": 2
}
